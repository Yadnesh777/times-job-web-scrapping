{
 "cells": [
  {
   "cell_type": "code",
   "execution_count": 53,
   "id": "cbf6d59e",
   "metadata": {},
   "outputs": [],
   "source": [
    "#------------------PYTHON PROJECT----------------------#\n",
    "\n",
    "base_url='https://www.timesjobs.com/candidate/job-search.html?from=submit&searchType=Home_Search&luceneResultSize=25&postWeek=60&cboPresFuncArea=35&pDate=Y&sequence=1&startPage=1'\n",
    "# this is a main url of website for scrapping data.\n",
    "\n",
    "all_urls=[]\n",
    "\n",
    "for item in range(1,41):\n",
    "    all_urls.append(base_url+str(item))\n",
    "#print(all_urls) # fetched 40 links of page, one page has 25 jobs (40*25=1000).\n",
    "    \n",
    "import requests\n",
    "# requests used for extract data from website.\n",
    "from bs4 import BeautifulSoup\n",
    "# beatifulsoup to understand HTML code for python.\n",
    "\n",
    "all_fetched_data=[] # list created for store list of dictionary data.\n",
    "\n",
    "    \n",
    "for url in all_urls:\n",
    "    source_data=requests.get(url).text # this is the data from website.\n",
    "   # print(source_data)\n",
    "    soup_data=BeautifulSoup(source_data,'lxml') #this is converted data from Python to beautifulsoup\n",
    "   # print(soup_data)\n",
    " \n",
    "    all_pages_data=soup_data.find_all('li',class_='clearfix job-bx wht-shd-bx') # these are tags of HTML which contain job details\n",
    "    #print(all_pages_data)\n",
    "   \n",
    "    for val in all_pages_data:\n",
    "        job_title=val.find('h2').text\n",
    "        \n",
    "        job_title=job_title.lstrip()\n",
    "        #print(job_title)\n",
    "        \n",
    "        company_name=val.find('h3',class_='joblist-comp-name').text \n",
    "        \n",
    "        companyname=company_name.lstrip().split()[0]\n",
    "       # print(companyname)\n",
    "        \n",
    "        experience=val.find('li').text\n",
    "        # fetched job_experience,\n",
    "        experience1=experience.replace('card_travel','')\n",
    "        #print(experience1)\n",
    "        \n",
    "        \n",
    "        location=val.find('ul',class_='top-jd-dtl clearfix')\n",
    "        loc=location.find('span')['title']\n",
    "        #print(loc)\n",
    "       \n",
    "        # fetched job_location,\n",
    "        \n",
    "       \n",
    "        \n",
    "        \n",
    "        job_discription=val.find('ul',class_='list-job-dtl clearfix').text # fetched job_description,\n",
    "        jobdescription=job_discription.splitlines()[3:4]\n",
    "        jobdescription=','.join(jobdescription)\n",
    "        #print(jobdescription)\n",
    "        key_skill=val.find('span',class_='srp-skills').text #fetched job_key_skill,\n",
    "        keyskill=key_skill.lstrip().splitlines()[0:1]\n",
    "        keyskill=(','.join(keyskill))\n",
    "        #print(keyskill)\n",
    "        \n",
    "        job_link=val.find('a')['href'] # fetched job_details_link,\n",
    "        #print(job_link)\n",
    "        \n",
    "        dict1={\n",
    "               'Job Title': job_title,\n",
    "               'Company Name': companyname,\n",
    "               'Experience': experience1,\n",
    "               'Location': loc,\n",
    "               'Job Description': jobdescription,\n",
    "               'Key Skills': keyskill,\n",
    "               'Job Detail Link': job_link\n",
    "              }\n",
    "        #print(dict1)\n",
    "        all_fetched_data.append(dict1)\n",
    "        \n",
    "        #print(all_fetched_data)\n",
    "        \n",
    "import pandas as pd    \n",
    "df1=pd.DataFrame(all_fetched_data)\n",
    "df1.to_excel('Python1_project.xlsx')\n",
    "\n",
    "\n",
    "        \n",
    "\n"
   ]
  },
  {
   "cell_type": "code",
   "execution_count": 52,
   "id": "a2126608",
   "metadata": {},
   "outputs": [
    {
     "data": {
      "text/plain": [
       "'C:\\\\Users\\\\HPI5'"
      ]
     },
     "execution_count": 52,
     "metadata": {},
     "output_type": "execute_result"
    }
   ],
   "source": [
    "pwd"
   ]
  },
  {
   "cell_type": "code",
   "execution_count": null,
   "id": "059a7120",
   "metadata": {},
   "outputs": [],
   "source": []
  }
 ],
 "metadata": {
  "kernelspec": {
   "display_name": "Python 3 (ipykernel)",
   "language": "python",
   "name": "python3"
  },
  "language_info": {
   "codemirror_mode": {
    "name": "ipython",
    "version": 3
   },
   "file_extension": ".py",
   "mimetype": "text/x-python",
   "name": "python",
   "nbconvert_exporter": "python",
   "pygments_lexer": "ipython3",
   "version": "3.9.12"
  }
 },
 "nbformat": 4,
 "nbformat_minor": 5
}
